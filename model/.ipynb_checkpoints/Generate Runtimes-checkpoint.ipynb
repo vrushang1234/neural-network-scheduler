{
 "cells": [
  {
   "cell_type": "code",
   "execution_count": 1,
   "id": "2c6c0483-a718-4bf7-9172-26bf78e8a4cc",
   "metadata": {},
   "outputs": [],
   "source": [
    "import pandas as pd"
   ]
  },
  {
   "cell_type": "code",
   "execution_count": 2,
   "id": "8feab366-17cd-42fe-a7b0-cc82c85e1c36",
   "metadata": {},
   "outputs": [],
   "source": [
    "df = pd.read_csv(\"process_metrics.csv\")"
   ]
  },
  {
   "cell_type": "code",
   "execution_count": 3,
   "id": "44765e4a-7bbd-4795-bc95-05334f90ecfc",
   "metadata": {},
   "outputs": [],
   "source": [
    "grouped_runtime = df.groupby(['run_id', 'algorithm', 'threads'])['uptime'].max().reset_index()\n",
    "grouped_runtime.rename(columns={'uptime': 'total_runtime'}, inplace=True)"
   ]
  },
  {
   "cell_type": "code",
   "execution_count": 4,
   "id": "40933f7e-a540-43de-9ceb-909c1894ac5c",
   "metadata": {},
   "outputs": [],
   "source": [
    "df_with_runtime = pd.merge(df, grouped_runtime, on=['run_id', 'algorithm', 'threads'])"
   ]
  },
  {
   "cell_type": "code",
   "execution_count": 5,
   "id": "8f08e2e8-f1ef-40d6-969e-73893059d92d",
   "metadata": {},
   "outputs": [],
   "source": [
    "df_with_runtime.to_csv(\"process_metrics_with_runtime.csv\", index=False)"
   ]
  },
  {
   "cell_type": "code",
   "execution_count": 6,
   "id": "6423220a-cbde-4fe8-b7cb-f1c34df2f377",
   "metadata": {},
   "outputs": [
    {
     "name": "stdout",
     "output_type": "stream",
     "text": [
      "   run_id algorithm  threads   pid  cpu_percent  memory_mb  num_threads  \\\n",
      "0       1    bubble        1  2512          0.0       5.63            2   \n",
      "1       1     merge        1  2511          0.0      11.88            1   \n",
      "2       1     merge        1  2511         90.8      19.88            1   \n",
      "3       1    bubble        1  2512         99.3       5.63            2   \n",
      "4       1     merge        1  2511         99.9      15.88            1   \n",
      "\n",
      "   context_switches  uptime     timestamp  total_runtime  \n",
      "0                 4    1.09  1.749021e+09          87.28  \n",
      "1                 2    1.09  1.749021e+09          19.27  \n",
      "2                 2    1.20  1.749021e+09          19.27  \n",
      "3                 4    1.20  1.749021e+09          87.28  \n",
      "4                 2    1.31  1.749021e+09          19.27  \n"
     ]
    }
   ],
   "source": [
    "print(df_with_runtime.head())"
   ]
  },
  {
   "cell_type": "code",
   "execution_count": null,
   "id": "b86a62c3-c269-41f2-8934-49cb0dd06947",
   "metadata": {},
   "outputs": [],
   "source": []
  }
 ],
 "metadata": {
  "kernelspec": {
   "display_name": "Python 3 (ipykernel)",
   "language": "python",
   "name": "python3"
  },
  "language_info": {
   "codemirror_mode": {
    "name": "ipython",
    "version": 3
   },
   "file_extension": ".py",
   "mimetype": "text/x-python",
   "name": "python",
   "nbconvert_exporter": "python",
   "pygments_lexer": "ipython3",
   "version": "3.11.12"
  }
 },
 "nbformat": 4,
 "nbformat_minor": 5
}
