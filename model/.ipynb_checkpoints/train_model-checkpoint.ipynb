{
 "cells": [
  {
   "cell_type": "code",
   "execution_count": 20,
   "id": "9399262a-f87e-44c1-8c6c-0248dab9c5e4",
   "metadata": {},
   "outputs": [],
   "source": [
    "import pandas as pd\n",
    "import torch\n",
    "import torch.nn as nn\n",
    "import torch.optim as optim\n",
    "from sklearn.preprocessing import StandardScaler, LabelEncoder\n",
    "from sklearn.model_selection import train_test_split\n",
    "from torch.utils.data import DataLoader, TensorDataset\n",
    "import matplotlib.pyplot as plt\n",
    "import joblib"
   ]
  },
  {
   "cell_type": "code",
   "execution_count": 21,
   "id": "59b64198-d89f-49d7-bdbe-8020307baebe",
   "metadata": {},
   "outputs": [],
   "source": [
    "df = pd.read_csv(\"./process_metrics_with_runtime.csv\")"
   ]
  },
  {
   "cell_type": "code",
   "execution_count": 8,
   "id": "a7a079bb-3743-4015-abab-8310a56474fd",
   "metadata": {},
   "outputs": [],
   "source": [
    "# Features and label\n",
    "features = [\"threads\", \"cpu_percent\", \"memory_mb\", \"num_threads\", \"context_switches\", \"uptime\"]\n",
    "target = \"total_runtime\""
   ]
  },
  {
   "cell_type": "code",
   "execution_count": 9,
   "id": "bee77e00-a32f-4d30-ad8e-d9df15977288",
   "metadata": {},
   "outputs": [],
   "source": [
    "X_raw = df[features]\n",
    "y_raw = df[target]"
   ]
  },
  {
   "cell_type": "code",
   "execution_count": 10,
   "id": "868eae7c-9015-4856-9aa7-a61490bb4f69",
   "metadata": {},
   "outputs": [],
   "source": [
    "# Normalize features\n",
    "scaler = StandardScaler()\n",
    "X_scaled = scaler.fit_transform(X_raw)"
   ]
  },
  {
   "cell_type": "code",
   "execution_count": 11,
   "id": "55a3b019-bdb9-4da9-8275-ee7aa33326df",
   "metadata": {},
   "outputs": [],
   "source": [
    "X = torch.tensor(X_scaled, dtype=torch.float32)\n",
    "y = torch.tensor(y_raw.values, dtype=torch.float32).view(-1, 1)"
   ]
  },
  {
   "cell_type": "code",
   "execution_count": 12,
   "id": "cb34c57b-7a75-4154-a50d-b6bc7f1e1382",
   "metadata": {},
   "outputs": [],
   "source": [
    "# Split into training and validation sets\n",
    "X_train, X_val, y_train, y_val = train_test_split(X, y, test_size=0.2, shuffle=True)"
   ]
  },
  {
   "cell_type": "code",
   "execution_count": 13,
   "id": "4a3170ec-06c4-4887-9e14-4f6b3fa123ae",
   "metadata": {},
   "outputs": [],
   "source": [
    "# Create DataLoaders\n",
    "train_loader = DataLoader(TensorDataset(X_train, y_train), batch_size=4, shuffle=True)\n",
    "val_loader = DataLoader(TensorDataset(X_val, y_val), batch_size=4)"
   ]
  },
  {
   "cell_type": "code",
   "execution_count": 14,
   "id": "8b1c66bf-0e12-4012-b383-241b25de9f46",
   "metadata": {},
   "outputs": [
    {
     "name": "stdout",
     "output_type": "stream",
     "text": [
      "Starting training...\n",
      "Epoch 1/50 - Train Loss: 218.5397 | Val Loss: 1.1848\n",
      "Epoch 2/50 - Train Loss: 0.8742 | Val Loss: 0.3959\n",
      "Epoch 3/50 - Train Loss: 0.4549 | Val Loss: 0.3257\n",
      "Epoch 4/50 - Train Loss: 0.4269 | Val Loss: 0.1825\n",
      "Epoch 5/50 - Train Loss: 0.2650 | Val Loss: 0.1912\n",
      "Epoch 6/50 - Train Loss: 0.4975 | Val Loss: 0.1524\n",
      "Epoch 7/50 - Train Loss: 0.2749 | Val Loss: 0.1569\n",
      "Epoch 8/50 - Train Loss: 0.2925 | Val Loss: 0.1554\n",
      "Epoch 9/50 - Train Loss: 0.2107 | Val Loss: 0.1460\n",
      "Epoch 10/50 - Train Loss: 0.4510 | Val Loss: 0.1476\n",
      "Epoch 11/50 - Train Loss: 0.2686 | Val Loss: 0.2731\n",
      "Epoch 12/50 - Train Loss: 0.4596 | Val Loss: 0.1392\n",
      "Epoch 13/50 - Train Loss: 0.1823 | Val Loss: 0.1452\n",
      "Epoch 14/50 - Train Loss: 0.8179 | Val Loss: 0.1385\n",
      "Epoch 15/50 - Train Loss: 0.1689 | Val Loss: 0.1519\n",
      "Epoch 16/50 - Train Loss: 1.0122 | Val Loss: 0.1870\n",
      "Epoch 17/50 - Train Loss: 0.2155 | Val Loss: 0.1415\n",
      "Epoch 18/50 - Train Loss: 0.7902 | Val Loss: 0.1473\n",
      "Epoch 19/50 - Train Loss: 0.2598 | Val Loss: 0.1533\n",
      "Epoch 20/50 - Train Loss: 0.7169 | Val Loss: 0.1576\n",
      "Epoch 21/50 - Train Loss: 0.2696 | Val Loss: 0.1794\n",
      "Epoch 22/50 - Train Loss: 0.6983 | Val Loss: 0.2606\n",
      "Epoch 23/50 - Train Loss: 0.2718 | Val Loss: 0.1425\n",
      "Epoch 24/50 - Train Loss: 0.2782 | Val Loss: 0.1626\n",
      "Epoch 25/50 - Train Loss: 0.3171 | Val Loss: 0.4725\n",
      "Epoch 26/50 - Train Loss: 0.5671 | Val Loss: 0.1422\n",
      "Epoch 27/50 - Train Loss: 0.2769 | Val Loss: 0.1377\n",
      "Epoch 28/50 - Train Loss: 0.6609 | Val Loss: 0.2013\n",
      "Epoch 29/50 - Train Loss: 0.2902 | Val Loss: 0.1362\n",
      "Epoch 30/50 - Train Loss: 0.5742 | Val Loss: 0.2053\n",
      "Epoch 31/50 - Train Loss: 0.2989 | Val Loss: 0.1441\n",
      "Epoch 32/50 - Train Loss: 0.5103 | Val Loss: 0.1426\n",
      "Epoch 33/50 - Train Loss: 0.2905 | Val Loss: 0.1458\n",
      "Epoch 34/50 - Train Loss: 0.5333 | Val Loss: 0.1606\n",
      "Epoch 35/50 - Train Loss: 0.2971 | Val Loss: 0.1405\n",
      "Epoch 36/50 - Train Loss: 0.4882 | Val Loss: 0.1605\n",
      "Epoch 37/50 - Train Loss: 0.3149 | Val Loss: 0.2593\n",
      "Epoch 38/50 - Train Loss: 0.5063 | Val Loss: 0.1536\n",
      "Epoch 39/50 - Train Loss: 0.2860 | Val Loss: 0.1621\n",
      "Epoch 40/50 - Train Loss: 0.5202 | Val Loss: 0.1591\n",
      "Epoch 41/50 - Train Loss: 0.2980 | Val Loss: 0.2760\n",
      "Epoch 42/50 - Train Loss: 0.4714 | Val Loss: 0.1319\n",
      "Epoch 43/50 - Train Loss: 0.3021 | Val Loss: 0.1394\n",
      "Epoch 44/50 - Train Loss: 0.4518 | Val Loss: 0.1411\n",
      "Epoch 45/50 - Train Loss: 0.3223 | Val Loss: 0.1480\n",
      "Epoch 46/50 - Train Loss: 0.3440 | Val Loss: 0.1496\n",
      "Epoch 47/50 - Train Loss: 0.4396 | Val Loss: 0.1500\n",
      "Epoch 48/50 - Train Loss: 0.3334 | Val Loss: 0.1428\n",
      "Epoch 49/50 - Train Loss: 0.3475 | Val Loss: 0.1745\n",
      "Epoch 50/50 - Train Loss: 0.3094 | Val Loss: 0.1353\n",
      "✅ Training complete.\n"
     ]
    }
   ],
   "source": [
    "# Define the model\n",
    "class RuntimePredictor(nn.Module):\n",
    "    def __init__(self):\n",
    "        super().__init__()\n",
    "        self.model = nn.Sequential(\n",
    "            nn.Linear(X.shape[1], 16),\n",
    "            nn.ReLU(),\n",
    "            nn.Linear(16, 8),\n",
    "            nn.ReLU(),\n",
    "            nn.Linear(8, 1)\n",
    "        )\n",
    "\n",
    "    def forward(self, x):\n",
    "        return self.model(x)\n",
    "\n",
    "model = RuntimePredictor()\n",
    "loss_fn = nn.MSELoss()\n",
    "optimizer = optim.Adam(model.parameters(), lr=0.001)\n",
    "\n",
    "# Training loop\n",
    "train_losses = []\n",
    "val_losses = []\n",
    "\n",
    "print(\"Starting training...\")\n",
    "for epoch in range(50):\n",
    "    model.train()\n",
    "    train_loss = 0.0\n",
    "    for xb, yb in train_loader:\n",
    "        optimizer.zero_grad()\n",
    "        output = model(xb)\n",
    "        loss = loss_fn(output, yb)\n",
    "        loss.backward()\n",
    "        optimizer.step()\n",
    "        train_loss += loss.item()\n",
    "    train_loss /= len(train_loader)\n",
    "    train_losses.append(train_loss)\n",
    "\n",
    "    model.eval()\n",
    "    val_loss = 0.0\n",
    "    with torch.no_grad():\n",
    "        for xb, yb in val_loader:\n",
    "            output = model(xb)\n",
    "            loss = loss_fn(output, yb)\n",
    "            val_loss += loss.item()\n",
    "    val_loss /= len(val_loader)\n",
    "    val_losses.append(val_loss)\n",
    "\n",
    "    # Log progress\n",
    "    print(f\"Epoch {epoch+1}/50 - Train Loss: {train_loss:.4f} | Val Loss: {val_loss:.4f}\")\n",
    "\n",
    "print(\"✅ Training complete.\")\n"
   ]
  },
  {
   "cell_type": "code",
   "execution_count": 15,
   "id": "162f958f-621d-45a1-989f-632935d7da02",
   "metadata": {},
   "outputs": [
    {
     "data": {
      "image/png": "[encoded data removed]",
      "text/plain": [
       "<Figure size 640x480 with 1 Axes>"
      ]
     },
     "metadata": {},
     "output_type": "display_data"
    }
   ],
   "source": [
    "# Plot training and validation loss\n",
    "plt.plot(train_losses, label=\"Train Loss\")\n",
    "plt.plot(val_losses, label=\"Val Loss\")\n",
    "plt.xlabel(\"Epoch\")\n",
    "plt.ylabel(\"MSE Loss\")\n",
    "plt.title(\"Training vs Validation Loss\")\n",
    "plt.legend()\n",
    "plt.grid(True)\n",
    "plt.tight_layout()"
   ]
  },
  {
   "cell_type": "code",
   "execution_count": 16,
   "id": "13abc8d7-3944-4330-b64b-7016b65b4a8a",
   "metadata": {},
   "outputs": [
    {
     "data": {
      "text/html": [
       "<div>\n",
       "<style scoped>\n",
       "    .dataframe tbody tr th:only-of-type {\n",
       "        vertical-align: middle;\n",
       "    }\n",
       "\n",
       "    .dataframe tbody tr th {\n",
       "        vertical-align: top;\n",
       "    }\n",
       "\n",
       "    .dataframe thead th {\n",
       "        text-align: right;\n",
       "    }\n",
       "</style>\n",
       "<table border=\"1\" class=\"dataframe\">\n",
       "  <thead>\n",
       "    <tr style=\"text-align: right;\">\n",
       "      <th></th>\n",
       "      <th>Actual Runtime</th>\n",
       "      <th>Predicted Runtime</th>\n",
       "    </tr>\n",
       "  </thead>\n",
       "  <tbody>\n",
       "    <tr>\n",
       "      <th>0</th>\n",
       "      <td>14.000000</td>\n",
       "      <td>13.865937</td>\n",
       "    </tr>\n",
       "    <tr>\n",
       "      <th>1</th>\n",
       "      <td>19.459999</td>\n",
       "      <td>19.288767</td>\n",
       "    </tr>\n",
       "    <tr>\n",
       "      <th>2</th>\n",
       "      <td>86.209999</td>\n",
       "      <td>86.399376</td>\n",
       "    </tr>\n",
       "    <tr>\n",
       "      <th>3</th>\n",
       "      <td>86.169998</td>\n",
       "      <td>86.504875</td>\n",
       "    </tr>\n",
       "    <tr>\n",
       "      <th>4</th>\n",
       "      <td>9.900000</td>\n",
       "      <td>9.809249</td>\n",
       "    </tr>\n",
       "    <tr>\n",
       "      <th>5</th>\n",
       "      <td>24.180000</td>\n",
       "      <td>24.144253</td>\n",
       "    </tr>\n",
       "    <tr>\n",
       "      <th>6</th>\n",
       "      <td>11.950000</td>\n",
       "      <td>12.038493</td>\n",
       "    </tr>\n",
       "    <tr>\n",
       "      <th>7</th>\n",
       "      <td>10.940000</td>\n",
       "      <td>10.893287</td>\n",
       "    </tr>\n",
       "    <tr>\n",
       "      <th>8</th>\n",
       "      <td>86.970001</td>\n",
       "      <td>86.872169</td>\n",
       "    </tr>\n",
       "    <tr>\n",
       "      <th>9</th>\n",
       "      <td>11.870000</td>\n",
       "      <td>11.927968</td>\n",
       "    </tr>\n",
       "  </tbody>\n",
       "</table>\n",
       "</div>"
      ],
      "text/plain": [
       "   Actual Runtime  Predicted Runtime\n",
       "0       14.000000          13.865937\n",
       "1       19.459999          19.288767\n",
       "2       86.209999          86.399376\n",
       "3       86.169998          86.504875\n",
       "4        9.900000           9.809249\n",
       "5       24.180000          24.144253\n",
       "6       11.950000          12.038493\n",
       "7       10.940000          10.893287\n",
       "8       86.970001          86.872169\n",
       "9       11.870000          11.927968"
      ]
     },
     "execution_count": 16,
     "metadata": {},
     "output_type": "execute_result"
    }
   ],
   "source": [
    "# Ensure model is in evaluation mode\n",
    "model.eval()\n",
    "\n",
    "# Predict on validation set\n",
    "with torch.no_grad():\n",
    "    y_pred = model(X_val).squeeze().numpy()\n",
    "    y_true = y_val.squeeze().numpy()\n",
    "\n",
    "# Optional: Convert predictions to a DataFrame\n",
    "results_df = pd.DataFrame({\n",
    "    \"Actual Runtime\": y_true,\n",
    "    \"Predicted Runtime\": y_pred\n",
    "})\n",
    "\n",
    "# Show first few comparisons\n",
    "results_df.head(10)"
   ]
  },
  {
   "cell_type": "code",
   "execution_count": 17,
   "id": "547409d2-6ee1-49d2-b339-86251581fdb9",
   "metadata": {},
   "outputs": [
    {
     "data": {
      "image/png": "[encoded data removed]",
      "text/plain": [
       "<Figure size 600x600 with 1 Axes>"
      ]
     },
     "metadata": {},
     "output_type": "display_data"
    }
   ],
   "source": [
    "import matplotlib.pyplot as plt\n",
    "\n",
    "plt.figure(figsize=(6, 6))\n",
    "plt.scatter(y_true, y_pred, alpha=0.7)\n",
    "plt.plot([min(y_true), max(y_true)], [min(y_true), max(y_true)], 'r--')  # Ideal line\n",
    "plt.xlabel(\"Actual Runtime\")\n",
    "plt.ylabel(\"Predicted Runtime\")\n",
    "plt.title(\"Predicted vs Actual Runtime\")\n",
    "plt.grid(True)\n",
    "plt.show()\n"
   ]
  },
  {
   "cell_type": "code",
   "execution_count": 19,
   "id": "7b18de74-1b48-4f40-b975-b91b2880906e",
   "metadata": {},
   "outputs": [],
   "source": [
    "joblib.dump(scaler, \"scaler.save\")\n",
    "torch.save(model.state_dict(), \"runtime_predictor.pt\")"
   ]
  },
  {
   "cell_type": "code",
   "execution_count": null,
   "id": "89309c58-4102-45f3-a966-4cff6904ba43",
   "metadata": {},
   "outputs": [],
   "source": []
  }
 ],
 "metadata": {
  "kernelspec": {
   "display_name": "Python 3 (ipykernel)",
   "language": "python",
   "name": "python3"
  },
  "language_info": {
   "codemirror_mode": {
    "name": "ipython",
    "version": 3
   },
   "file_extension": ".py",
   "mimetype": "text/x-python",
   "name": "python",
   "nbconvert_exporter": "python",
   "pygments_lexer": "ipython3",
   "version": "3.11.12"
  }
 },
 "nbformat": 4,
 "nbformat_minor": 5
}
