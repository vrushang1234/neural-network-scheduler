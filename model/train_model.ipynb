{
 "cells": [
  {
   "cell_type": "code",
   "execution_count": 1,
   "id": "9399262a-f87e-44c1-8c6c-0248dab9c5e4",
   "metadata": {},
   "outputs": [],
   "source": [
    "import pandas as pd\n",
    "import torch\n",
    "import torch.nn as nn\n",
    "import torch.optim as optim\n",
    "from sklearn.preprocessing import StandardScaler, LabelEncoder\n",
    "from sklearn.model_selection import train_test_split\n",
    "from torch.utils.data import DataLoader, TensorDataset\n",
    "import matplotlib.pyplot as plt\n",
    "import joblib"
   ]
  },
  {
   "cell_type": "code",
   "execution_count": 2,
   "id": "59b64198-d89f-49d7-bdbe-8020307baebe",
   "metadata": {},
   "outputs": [],
   "source": [
    "df = pd.read_csv(\"./process_metrics_with_runtime.csv\")"
   ]
  },
  {
   "cell_type": "code",
   "execution_count": 3,
   "id": "a7a079bb-3743-4015-abab-8310a56474fd",
   "metadata": {},
   "outputs": [],
   "source": [
    "# Features and label\n",
    "features = [\"threads\", \"cpu_percent\", \"memory_mb\", \"num_threads\", \"context_switches\", \"uptime\"]\n",
    "target = \"total_runtime\""
   ]
  },
  {
   "cell_type": "code",
   "execution_count": 4,
   "id": "bee77e00-a32f-4d30-ad8e-d9df15977288",
   "metadata": {},
   "outputs": [],
   "source": [
    "X_raw = df[features]\n",
    "y_raw = df[target]"
   ]
  },
  {
   "cell_type": "code",
   "execution_count": 5,
   "id": "868eae7c-9015-4856-9aa7-a61490bb4f69",
   "metadata": {},
   "outputs": [],
   "source": [
    "# Normalize features\n",
    "scaler = StandardScaler()\n",
    "X_scaled = scaler.fit_transform(X_raw)"
   ]
  },
  {
   "cell_type": "code",
   "execution_count": 6,
   "id": "55a3b019-bdb9-4da9-8275-ee7aa33326df",
   "metadata": {},
   "outputs": [],
   "source": [
    "X = torch.tensor(X_scaled, dtype=torch.float32)\n",
    "y = torch.tensor(y_raw.values, dtype=torch.float32).view(-1, 1)"
   ]
  },
  {
   "cell_type": "code",
   "execution_count": 7,
   "id": "cb34c57b-7a75-4154-a50d-b6bc7f1e1382",
   "metadata": {},
   "outputs": [],
   "source": [
    "# Split into training and validation sets\n",
    "X_train, X_val, y_train, y_val = train_test_split(X, y, test_size=0.2, shuffle=True)"
   ]
  },
  {
   "cell_type": "code",
   "execution_count": 8,
   "id": "4a3170ec-06c4-4887-9e14-4f6b3fa123ae",
   "metadata": {},
   "outputs": [],
   "source": [
    "# Create DataLoaders\n",
    "train_loader = DataLoader(TensorDataset(X_train, y_train), batch_size=4, shuffle=True)\n",
    "val_loader = DataLoader(TensorDataset(X_val, y_val), batch_size=4)"
   ]
  },
  {
   "cell_type": "code",
   "execution_count": 9,
   "id": "8b1c66bf-0e12-4012-b383-241b25de9f46",
   "metadata": {},
   "outputs": [
    {
     "name": "stdout",
     "output_type": "stream",
     "text": [
      "Starting training...\n",
      "Epoch 1/100 - Train Loss: 211.7099 | Val Loss: 20.9857\n",
      "Epoch 2/100 - Train Loss: 10.1137 | Val Loss: 2.4317\n",
      "Epoch 3/100 - Train Loss: 18.1590 | Val Loss: 0.5981\n",
      "Epoch 4/100 - Train Loss: 9.8508 | Val Loss: 0.4658\n",
      "Epoch 5/100 - Train Loss: 10.1429 | Val Loss: 0.4199\n",
      "Epoch 6/100 - Train Loss: 4.7440 | Val Loss: 0.4355\n",
      "Epoch 7/100 - Train Loss: 1.6531 | Val Loss: 0.4401\n",
      "Epoch 8/100 - Train Loss: 0.4827 | Val Loss: 0.4999\n",
      "Epoch 9/100 - Train Loss: 0.3708 | Val Loss: 0.5034\n",
      "Epoch 10/100 - Train Loss: 0.3685 | Val Loss: 0.3990\n",
      "Epoch 11/100 - Train Loss: 0.4865 | Val Loss: 0.3925\n",
      "Epoch 12/100 - Train Loss: 0.3044 | Val Loss: 0.6134\n",
      "Epoch 13/100 - Train Loss: 0.4823 | Val Loss: 0.4024\n",
      "Epoch 14/100 - Train Loss: 0.2381 | Val Loss: 0.3763\n",
      "Epoch 15/100 - Train Loss: 0.5878 | Val Loss: 0.3802\n",
      "Epoch 16/100 - Train Loss: 0.2466 | Val Loss: 0.3803\n",
      "Epoch 17/100 - Train Loss: 0.4944 | Val Loss: 0.4812\n",
      "Epoch 18/100 - Train Loss: 0.2921 | Val Loss: 0.4388\n",
      "Epoch 19/100 - Train Loss: 0.2718 | Val Loss: 0.3769\n",
      "Epoch 20/100 - Train Loss: 0.2288 | Val Loss: 0.4103\n",
      "Epoch 21/100 - Train Loss: 0.7671 | Val Loss: 0.3799\n",
      "Epoch 22/100 - Train Loss: 0.2146 | Val Loss: 0.4749\n",
      "Epoch 23/100 - Train Loss: 0.3291 | Val Loss: 0.4306\n",
      "Epoch 24/100 - Train Loss: 0.4084 | Val Loss: 0.5075\n",
      "Epoch 25/100 - Train Loss: 1.1552 | Val Loss: 0.4014\n",
      "Epoch 26/100 - Train Loss: 0.2418 | Val Loss: 0.6394\n",
      "Epoch 27/100 - Train Loss: 1.0257 | Val Loss: 0.4299\n",
      "Epoch 28/100 - Train Loss: 0.2466 | Val Loss: 0.4046\n",
      "Epoch 29/100 - Train Loss: 0.2726 | Val Loss: 0.4174\n",
      "Epoch 30/100 - Train Loss: 0.3372 | Val Loss: 0.4089\n",
      "Epoch 31/100 - Train Loss: 0.2168 | Val Loss: 0.3857\n",
      "Epoch 32/100 - Train Loss: 0.6513 | Val Loss: 0.5760\n",
      "Epoch 33/100 - Train Loss: 0.2049 | Val Loss: 0.4667\n",
      "Epoch 34/100 - Train Loss: 0.2691 | Val Loss: 0.4289\n",
      "Epoch 35/100 - Train Loss: 0.3226 | Val Loss: 0.4419\n",
      "Epoch 36/100 - Train Loss: 0.2027 | Val Loss: 0.5562\n",
      "Epoch 37/100 - Train Loss: 0.4677 | Val Loss: 0.6346\n",
      "Epoch 38/100 - Train Loss: 0.2228 | Val Loss: 0.4060\n",
      "Epoch 39/100 - Train Loss: 0.2043 | Val Loss: 0.4372\n",
      "Epoch 40/100 - Train Loss: 0.2329 | Val Loss: 0.5314\n",
      "Epoch 41/100 - Train Loss: 0.2019 | Val Loss: 0.4913\n",
      "Epoch 42/100 - Train Loss: 0.2017 | Val Loss: 0.4279\n",
      "Epoch 43/100 - Train Loss: 0.1995 | Val Loss: 0.4187\n",
      "Epoch 44/100 - Train Loss: 0.2019 | Val Loss: 0.4200\n",
      "Epoch 45/100 - Train Loss: 0.2012 | Val Loss: 0.4245\n",
      "Epoch 46/100 - Train Loss: 0.2047 | Val Loss: 0.4221\n",
      "Epoch 47/100 - Train Loss: 0.1993 | Val Loss: 0.4311\n",
      "Epoch 48/100 - Train Loss: 0.2024 | Val Loss: 0.4755\n",
      "Epoch 49/100 - Train Loss: 0.1980 | Val Loss: 0.4293\n",
      "Epoch 50/100 - Train Loss: 0.1961 | Val Loss: 0.4246\n",
      "Epoch 51/100 - Train Loss: 0.2237 | Val Loss: 0.4503\n",
      "Epoch 52/100 - Train Loss: 0.1943 | Val Loss: 0.4511\n",
      "Epoch 53/100 - Train Loss: 0.2789 | Val Loss: 0.4101\n",
      "Epoch 54/100 - Train Loss: 0.1937 | Val Loss: 0.4274\n",
      "Epoch 55/100 - Train Loss: 0.2044 | Val Loss: 0.5013\n",
      "Epoch 56/100 - Train Loss: 0.2017 | Val Loss: 0.4161\n",
      "Epoch 57/100 - Train Loss: 0.1974 | Val Loss: 0.5820\n",
      "Epoch 58/100 - Train Loss: 0.1973 | Val Loss: 0.5095\n",
      "Epoch 59/100 - Train Loss: 0.2585 | Val Loss: 0.4290\n",
      "Epoch 60/100 - Train Loss: 0.1946 | Val Loss: 0.4459\n",
      "Epoch 61/100 - Train Loss: 0.2075 | Val Loss: 0.4329\n",
      "Epoch 62/100 - Train Loss: 0.1934 | Val Loss: 0.4462\n",
      "Epoch 63/100 - Train Loss: 0.2452 | Val Loss: 0.4423\n",
      "Epoch 64/100 - Train Loss: 0.1929 | Val Loss: 0.4272\n",
      "Epoch 65/100 - Train Loss: 0.1920 | Val Loss: 0.5046\n",
      "Epoch 66/100 - Train Loss: 0.1930 | Val Loss: 0.4326\n",
      "Epoch 67/100 - Train Loss: 0.2161 | Val Loss: 0.4364\n",
      "Epoch 68/100 - Train Loss: 0.1965 | Val Loss: 0.4456\n",
      "Epoch 69/100 - Train Loss: 0.2494 | Val Loss: 0.4242\n",
      "Epoch 70/100 - Train Loss: 0.1880 | Val Loss: 0.4542\n",
      "Epoch 71/100 - Train Loss: 0.1892 | Val Loss: 0.4872\n",
      "Epoch 72/100 - Train Loss: 0.1994 | Val Loss: 0.5717\n",
      "Epoch 73/100 - Train Loss: 0.2409 | Val Loss: 0.4628\n",
      "Epoch 74/100 - Train Loss: 0.1946 | Val Loss: 0.4167\n",
      "Epoch 75/100 - Train Loss: 0.1939 | Val Loss: 0.4235\n",
      "Epoch 76/100 - Train Loss: 0.1925 | Val Loss: 0.4378\n",
      "Epoch 77/100 - Train Loss: 0.1922 | Val Loss: 0.4253\n",
      "Epoch 78/100 - Train Loss: 0.2236 | Val Loss: 0.4196\n",
      "Epoch 79/100 - Train Loss: 0.1831 | Val Loss: 0.4349\n",
      "Epoch 80/100 - Train Loss: 0.1881 | Val Loss: 0.4208\n",
      "Epoch 81/100 - Train Loss: 0.1944 | Val Loss: 0.4702\n",
      "Epoch 82/100 - Train Loss: 0.1909 | Val Loss: 0.4390\n",
      "Epoch 83/100 - Train Loss: 0.2095 | Val Loss: 0.4799\n",
      "Epoch 84/100 - Train Loss: 0.1870 | Val Loss: 0.4461\n",
      "Epoch 85/100 - Train Loss: 0.1849 | Val Loss: 0.4492\n",
      "Epoch 86/100 - Train Loss: 0.1886 | Val Loss: 0.4366\n",
      "Epoch 87/100 - Train Loss: 0.1888 | Val Loss: 0.4757\n",
      "Epoch 88/100 - Train Loss: 0.1864 | Val Loss: 0.4379\n",
      "Epoch 89/100 - Train Loss: 0.2445 | Val Loss: 0.4363\n",
      "Epoch 90/100 - Train Loss: 0.1837 | Val Loss: 0.4139\n",
      "Epoch 91/100 - Train Loss: 0.1944 | Val Loss: 0.4273\n",
      "Epoch 92/100 - Train Loss: 0.1857 | Val Loss: 0.6035\n",
      "Epoch 93/100 - Train Loss: 0.2134 | Val Loss: 0.4227\n",
      "Epoch 94/100 - Train Loss: 0.1829 | Val Loss: 0.4048\n",
      "Epoch 95/100 - Train Loss: 0.1840 | Val Loss: 0.4872\n",
      "Epoch 96/100 - Train Loss: 0.2328 | Val Loss: 0.4093\n",
      "Epoch 97/100 - Train Loss: 0.1806 | Val Loss: 0.4204\n",
      "Epoch 98/100 - Train Loss: 0.1939 | Val Loss: 0.4033\n",
      "Epoch 99/100 - Train Loss: 0.1826 | Val Loss: 0.4966\n",
      "Epoch 100/100 - Train Loss: 0.1840 | Val Loss: 0.4045\n",
      "✅ Training complete.\n"
     ]
    }
   ],
   "source": [
    "# Define the model\n",
    "class RuntimePredictor(nn.Module):\n",
    "    def __init__(self):\n",
    "        super().__init__()\n",
    "        self.model = nn.Sequential(\n",
    "            nn.Linear(X.shape[1], 16),\n",
    "            nn.ReLU(),\n",
    "            nn.Linear(16, 8),\n",
    "            nn.ReLU(),\n",
    "            nn.Linear(8, 1)\n",
    "        )\n",
    "\n",
    "    def forward(self, x):\n",
    "        return self.model(x)\n",
    "\n",
    "model = RuntimePredictor()\n",
    "loss_fn = nn.MSELoss()\n",
    "optimizer = torch.optim.Adam(model.parameters(), lr=0.001, weight_decay=1e-4)\n",
    "\n",
    "# Training loop\n",
    "train_losses = []\n",
    "val_losses = []\n",
    "\n",
    "print(\"Starting training...\")\n",
    "for epoch in range(100):\n",
    "    model.train()\n",
    "    train_loss = 0.0\n",
    "    for xb, yb in train_loader:\n",
    "        optimizer.zero_grad()\n",
    "        output = model(xb)\n",
    "        loss = loss_fn(output, yb)\n",
    "        loss.backward()\n",
    "        optimizer.step()\n",
    "        train_loss += loss.item()\n",
    "    train_loss /= len(train_loader)\n",
    "    train_losses.append(train_loss)\n",
    "\n",
    "    model.eval()\n",
    "    val_loss = 0.0\n",
    "    with torch.no_grad():\n",
    "        for xb, yb in val_loader:\n",
    "            output = model(xb)\n",
    "            loss = loss_fn(output, yb)\n",
    "            val_loss += loss.item()\n",
    "    val_loss /= len(val_loader)\n",
    "    val_losses.append(val_loss)\n",
    "\n",
    "    # Log progress\n",
    "    print(f\"Epoch {epoch+1}/100 - Train Loss: {train_loss:.4f} | Val Loss: {val_loss:.4f}\")\n",
    "\n",
    "print(\"✅ Training complete.\")\n"
   ]
  },
  {
   "cell_type": "code",
   "execution_count": 10,
   "id": "162f958f-621d-45a1-989f-632935d7da02",
   "metadata": {},
   "outputs": [
    {
     "data": {
      "image/png": "[encoded data removed]",
      "text/plain": [
       "<Figure size 640x480 with 1 Axes>"
      ]
     },
     "metadata": {},
     "output_type": "display_data"
    }
   ],
   "source": [
    "# Plot training and validation loss\n",
    "plt.plot(train_losses, label=\"Train Loss\")\n",
    "plt.plot(val_losses, label=\"Val Loss\")\n",
    "plt.xlabel(\"Epoch\")\n",
    "plt.ylabel(\"MSE Loss\")\n",
    "plt.title(\"Training vs Validation Loss\")\n",
    "plt.legend()\n",
    "plt.grid(True)\n",
    "plt.tight_layout()"
   ]
  },
  {
   "cell_type": "code",
   "execution_count": 11,
   "id": "13abc8d7-3944-4330-b64b-7016b65b4a8a",
   "metadata": {},
   "outputs": [
    {
     "data": {
      "text/html": [
       "<div>\n",
       "<style scoped>\n",
       "    .dataframe tbody tr th:only-of-type {\n",
       "        vertical-align: middle;\n",
       "    }\n",
       "\n",
       "    .dataframe tbody tr th {\n",
       "        vertical-align: top;\n",
       "    }\n",
       "\n",
       "    .dataframe thead th {\n",
       "        text-align: right;\n",
       "    }\n",
       "</style>\n",
       "<table border=\"1\" class=\"dataframe\">\n",
       "  <thead>\n",
       "    <tr style=\"text-align: right;\">\n",
       "      <th></th>\n",
       "      <th>Actual Runtime</th>\n",
       "      <th>Predicted Runtime</th>\n",
       "    </tr>\n",
       "  </thead>\n",
       "  <tbody>\n",
       "    <tr>\n",
       "      <th>0</th>\n",
       "      <td>11.980000</td>\n",
       "      <td>12.009188</td>\n",
       "    </tr>\n",
       "    <tr>\n",
       "      <th>1</th>\n",
       "      <td>86.730003</td>\n",
       "      <td>86.537872</td>\n",
       "    </tr>\n",
       "    <tr>\n",
       "      <th>2</th>\n",
       "      <td>88.680000</td>\n",
       "      <td>86.748985</td>\n",
       "    </tr>\n",
       "    <tr>\n",
       "      <th>3</th>\n",
       "      <td>86.970001</td>\n",
       "      <td>86.752945</td>\n",
       "    </tr>\n",
       "    <tr>\n",
       "      <th>4</th>\n",
       "      <td>24.260000</td>\n",
       "      <td>24.181583</td>\n",
       "    </tr>\n",
       "    <tr>\n",
       "      <th>5</th>\n",
       "      <td>88.680000</td>\n",
       "      <td>86.759079</td>\n",
       "    </tr>\n",
       "    <tr>\n",
       "      <th>6</th>\n",
       "      <td>9.920000</td>\n",
       "      <td>9.962787</td>\n",
       "    </tr>\n",
       "    <tr>\n",
       "      <th>7</th>\n",
       "      <td>9.930000</td>\n",
       "      <td>9.957218</td>\n",
       "    </tr>\n",
       "    <tr>\n",
       "      <th>8</th>\n",
       "      <td>87.019997</td>\n",
       "      <td>86.799950</td>\n",
       "    </tr>\n",
       "    <tr>\n",
       "      <th>9</th>\n",
       "      <td>86.940002</td>\n",
       "      <td>86.605179</td>\n",
       "    </tr>\n",
       "  </tbody>\n",
       "</table>\n",
       "</div>"
      ],
      "text/plain": [
       "   Actual Runtime  Predicted Runtime\n",
       "0       11.980000          12.009188\n",
       "1       86.730003          86.537872\n",
       "2       88.680000          86.748985\n",
       "3       86.970001          86.752945\n",
       "4       24.260000          24.181583\n",
       "5       88.680000          86.759079\n",
       "6        9.920000           9.962787\n",
       "7        9.930000           9.957218\n",
       "8       87.019997          86.799950\n",
       "9       86.940002          86.605179"
      ]
     },
     "execution_count": 11,
     "metadata": {},
     "output_type": "execute_result"
    }
   ],
   "source": [
    "# Ensure model is in evaluation mode\n",
    "model.eval()\n",
    "\n",
    "# Predict on validation set\n",
    "with torch.no_grad():\n",
    "    y_pred = model(X_val).squeeze().numpy()\n",
    "    y_true = y_val.squeeze().numpy()\n",
    "\n",
    "# Optional: Convert predictions to a DataFrame\n",
    "results_df = pd.DataFrame({\n",
    "    \"Actual Runtime\": y_true,\n",
    "    \"Predicted Runtime\": y_pred\n",
    "})\n",
    "\n",
    "# Show first few comparisons\n",
    "results_df.head(10)"
   ]
  },
  {
   "cell_type": "code",
   "execution_count": 12,
   "id": "547409d2-6ee1-49d2-b339-86251581fdb9",
   "metadata": {},
   "outputs": [
    {
     "data": {
      "image/png": "[encoded data removed]",
      "text/plain": [
       "<Figure size 600x600 with 1 Axes>"
      ]
     },
     "metadata": {},
     "output_type": "display_data"
    }
   ],
   "source": [
    "import matplotlib.pyplot as plt\n",
    "\n",
    "plt.figure(figsize=(6, 6))\n",
    "plt.scatter(y_true, y_pred, alpha=0.7)\n",
    "plt.plot([min(y_true), max(y_true)], [min(y_true), max(y_true)], 'r--')  # Ideal line\n",
    "plt.xlabel(\"Actual Runtime\")\n",
    "plt.ylabel(\"Predicted Runtime\")\n",
    "plt.title(\"Predicted vs Actual Runtime\")\n",
    "plt.grid(True)\n",
    "plt.show()\n"
   ]
  },
  {
   "cell_type": "code",
   "execution_count": 14,
   "id": "7b18de74-1b48-4f40-b975-b91b2880906e",
   "metadata": {},
   "outputs": [],
   "source": [
    "joblib.dump(scaler, \"scaler.save\")\n",
    "torch.save(model.state_dict(), \"runtime_predictor.pt\")"
   ]
  },
  {
   "cell_type": "code",
   "execution_count": null,
   "id": "89309c58-4102-45f3-a966-4cff6904ba43",
   "metadata": {},
   "outputs": [],
   "source": []
  }
 ],
 "metadata": {
  "kernelspec": {
   "display_name": "Python 3 (ipykernel)",
   "language": "python",
   "name": "python3"
  },
  "language_info": {
   "codemirror_mode": {
    "name": "ipython",
    "version": 3
   },
   "file_extension": ".py",
   "mimetype": "text/x-python",
   "name": "python",
   "nbconvert_exporter": "python",
   "pygments_lexer": "ipython3",
   "version": "3.11.12"
  }
 },
 "nbformat": 4,
 "nbformat_minor": 5
}
